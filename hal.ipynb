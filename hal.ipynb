{
 "cells": [
  {
   "cell_type": "code",
   "execution_count": 1,
   "metadata": {},
   "outputs": [],
   "source": [
    "from benchmarks.utils import Runner\n"
   ]
  },
  {
   "cell_type": "code",
   "execution_count": null,
   "metadata": {},
   "outputs": [],
   "source": [
    "config_file = 'benchmark-configs/halstrong2.yaml'\n",
    "runner = Runner(config_file)\n",
    "for i in range(10):\n",
    "    runner.run()"
   ]
  },
  {
   "cell_type": "code",
   "execution_count": null,
   "metadata": {},
   "outputs": [],
   "source": [
    "config_file = 'benchmark-configs/halstrong1.yaml'\n",
    "runner = Runner(config_file)\n",
    "for i in range(10):\n",
    "    runner.run()"
   ]
  },
  {
   "cell_type": "code",
   "execution_count": null,
   "metadata": {},
   "outputs": [],
   "source": [
    "config_file = 'benchmark-configs/halweak.yaml'\n",
    "runner = Runner(config_file)\n",
    "for i in range(10):\n",
    "    runner.run()"
   ]
  }
 ],
 "metadata": {
  "kernelspec": {
   "display_name": "pangeobench",
   "language": "python",
   "name": "pangeobench"
  },
  "language_info": {
   "codemirror_mode": {
    "name": "ipython",
    "version": 3
   },
   "file_extension": ".py",
   "mimetype": "text/x-python",
   "name": "python",
   "nbconvert_exporter": "python",
   "pygments_lexer": "ipython3",
   "version": "3.6.8"
  }
 },
 "nbformat": 4,
 "nbformat_minor": 2
}

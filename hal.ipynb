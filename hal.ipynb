{
 "cells": [
  {
   "cell_type": "code",
   "execution_count": 1,
   "metadata": {},
   "outputs": [],
   "source": [
    "\n",
    "\n",
    "from benchmarks.utils import Runner\n",
    "#import click\n",
    "\n",
    "\n"
   ]
  },
  {
   "cell_type": "code",
   "execution_count": 5,
   "metadata": {},
   "outputs": [
    {
     "data": {
      "text/plain": [
       "{'name': 'dask-worker',\n",
       " 'cores': None,\n",
       " 'memory': None,\n",
       " 'processes': 1,\n",
       " 'interface': None,\n",
       " 'death-timeout': 60,\n",
       " 'local-directory': None,\n",
       " 'queue': None,\n",
       " 'project': None,\n",
       " 'walltime': '00:30:00',\n",
       " 'extra': [],\n",
       " 'env-extra': [],\n",
       " 'resource-spec': None,\n",
       " 'job-extra': [],\n",
       " 'log-directory': None}"
      ]
     },
     "execution_count": 5,
     "metadata": {},
     "output_type": "execute_result"
    }
   ],
   "source": [
    "dask.config.get(\"jobqueue.pbs\")"
   ]
  },
  {
   "cell_type": "code",
   "execution_count": null,
   "metadata": {},
   "outputs": [],
   "source": []
  }
 ],
 "metadata": {
  "kernelspec": {
   "display_name": "pangeobench",
   "language": "python",
   "name": "pangeobench"
  },
  "language_info": {
   "codemirror_mode": {
    "name": "ipython",
    "version": 3
   },
   "file_extension": ".py",
   "mimetype": "text/x-python",
   "name": "python",
   "nbconvert_exporter": "python",
   "pygments_lexer": "ipython3",
   "version": "3.6.8"
  }
 },
 "nbformat": 4,
 "nbformat_minor": 2
}

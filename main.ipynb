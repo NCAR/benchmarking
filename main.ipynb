{
 "cells": [
  {
   "cell_type": "code",
   "execution_count": 1,
   "metadata": {},
   "outputs": [],
   "source": [
    "from benchmarks.utils import Setup\n",
    "import warnings\n",
    "warnings.simplefilter(\"ignore\") # Silence warnings"
   ]
  },
  {
   "cell_type": "code",
   "execution_count": null,
   "metadata": {},
   "outputs": [],
   "source": [
    "s = Setup('cheyenne.yaml')"
   ]
  },
  {
   "cell_type": "code",
   "execution_count": null,
   "metadata": {},
   "outputs": [
    {
     "name": "stdout",
     "output_type": "stream",
     "text": [
      "PBSCluster(cores=4, memory=109.00 GB, workers=4/4, jobs=1/1)\n",
      "worker_per_node=4, num_nodes=1, chunk_size=8MB\n",
      "worker_per_node=4, num_nodes=1, chunk_size=16MB\n",
      "worker_per_node=4, num_nodes=1, chunk_size=32MB\n",
      "worker_per_node=4, num_nodes=1, chunk_size=64MB\n",
      "worker_per_node=4, num_nodes=1, chunk_size=128MB\n",
      "worker_per_node=4, num_nodes=1, chunk_size=256MB\n",
      "worker_per_node=4, num_nodes=1, chunk_size=512MB\n"
     ]
    },
    {
     "name": "stderr",
     "output_type": "stream",
     "text": [
      "Worker tcp://10.148.11.12:46873 restart in Job 5679855. This can be due to memory issue.\n"
     ]
    },
    {
     "name": "stdout",
     "output_type": "stream",
     "text": [
      "PBSCluster(cores=8, memory=218.00 GB, workers=8/8, jobs=2/2)\n",
      "worker_per_node=4, num_nodes=2, chunk_size=8MB\n",
      "worker_per_node=4, num_nodes=2, chunk_size=16MB\n",
      "worker_per_node=4, num_nodes=2, chunk_size=32MB\n",
      "worker_per_node=4, num_nodes=2, chunk_size=64MB\n",
      "worker_per_node=4, num_nodes=2, chunk_size=128MB\n",
      "worker_per_node=4, num_nodes=2, chunk_size=256MB\n",
      "worker_per_node=4, num_nodes=2, chunk_size=512MB\n"
     ]
    },
    {
     "name": "stderr",
     "output_type": "stream",
     "text": [
      "Worker tcp://10.148.11.12:41196 restart in Job 5679855. This can be due to memory issue.\n",
      "Worker tcp://10.148.9.59:42053 restart in Job 5679863. This can be due to memory issue.\n"
     ]
    },
    {
     "name": "stdout",
     "output_type": "stream",
     "text": [
      "PBSCluster(cores=16, memory=436.00 GB, workers=16/16, jobs=4/4)\n",
      "worker_per_node=4, num_nodes=4, chunk_size=8MB\n",
      "worker_per_node=4, num_nodes=4, chunk_size=16MB\n",
      "worker_per_node=4, num_nodes=4, chunk_size=32MB\n",
      "worker_per_node=4, num_nodes=4, chunk_size=64MB\n",
      "worker_per_node=4, num_nodes=4, chunk_size=128MB\n",
      "worker_per_node=4, num_nodes=4, chunk_size=256MB\n",
      "worker_per_node=4, num_nodes=4, chunk_size=512MB\n"
     ]
    },
    {
     "name": "stderr",
     "output_type": "stream",
     "text": [
      "Worker tcp://10.148.11.12:43876 restart in Job 5679855. This can be due to memory issue.\n",
      "Worker tcp://10.148.9.59:59221 restart in Job 5679863. This can be due to memory issue.\n",
      "Worker tcp://10.148.10.136:53563 restart in Job 5679955. This can be due to memory issue.\n",
      "Worker tcp://10.148.10.8:47173 restart in Job 5679956. This can be due to memory issue.\n"
     ]
    },
    {
     "name": "stdout",
     "output_type": "stream",
     "text": [
      "PBSCluster(cores=32, memory=872.00 GB, workers=32/32, jobs=8/8)\n",
      "worker_per_node=4, num_nodes=8, chunk_size=8MB\n",
      "worker_per_node=4, num_nodes=8, chunk_size=16MB\n",
      "worker_per_node=4, num_nodes=8, chunk_size=32MB\n",
      "worker_per_node=4, num_nodes=8, chunk_size=64MB\n",
      "worker_per_node=4, num_nodes=8, chunk_size=128MB\n",
      "worker_per_node=4, num_nodes=8, chunk_size=256MB\n",
      "worker_per_node=4, num_nodes=8, chunk_size=512MB\n"
     ]
    },
    {
     "name": "stderr",
     "output_type": "stream",
     "text": [
      "Worker tcp://10.148.10.151:36311 restart in Job 5679966. This can be due to memory issue.\n",
      "Worker tcp://10.148.10.255:59839 restart in Job 5679968. This can be due to memory issue.\n",
      "Worker tcp://10.148.10.136:56808 restart in Job 5679955. This can be due to memory issue.\n",
      "Worker tcp://10.148.10.144:46362 restart in Job 5679967. This can be due to memory issue.\n",
      "Worker tcp://10.148.11.12:35166 restart in Job 5679855. This can be due to memory issue.\n",
      "Worker tcp://10.148.10.149:34593 restart in Job 5679965. This can be due to memory issue.\n",
      "Worker tcp://10.148.9.59:58722 restart in Job 5679863. This can be due to memory issue.\n",
      "Worker tcp://10.148.10.8:59484 restart in Job 5679956. This can be due to memory issue.\n"
     ]
    },
    {
     "name": "stdout",
     "output_type": "stream",
     "text": [
      "PBSCluster(cores=64, memory=1.74 TB, workers=64/64, jobs=16/16)\n",
      "worker_per_node=4, num_nodes=16, chunk_size=8MB\n"
     ]
    }
   ],
   "source": [
    "%time s.run(verbose=True)"
   ]
  },
  {
   "cell_type": "code",
   "execution_count": 5,
   "metadata": {},
   "outputs": [],
   "source": [
    "s.client.cluster.close()"
   ]
  },
  {
   "cell_type": "code",
   "execution_count": null,
   "metadata": {},
   "outputs": [],
   "source": []
  }
 ],
 "metadata": {
  "kernelspec": {
   "display_name": "Python [conda env:analysis]",
   "language": "python",
   "name": "conda-env-analysis-py"
  },
  "language_info": {
   "codemirror_mode": {
    "name": "ipython",
    "version": 3
   },
   "file_extension": ".py",
   "mimetype": "text/x-python",
   "name": "python",
   "nbconvert_exporter": "python",
   "pygments_lexer": "ipython3",
   "version": "3.7.3"
  }
 },
 "nbformat": 4,
 "nbformat_minor": 2
}
